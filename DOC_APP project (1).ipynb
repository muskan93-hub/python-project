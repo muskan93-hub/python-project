{
 "cells": [
  {
   "cell_type": "code",
   "execution_count": 1,
   "id": "f251be74",
   "metadata": {},
   "outputs": [
    {
     "name": "stdout",
     "output_type": "stream",
     "text": [
      "\n",
      "Doctor Appointment System\n",
      "1. Add Doctor\n",
      "2. Add Patient\n",
      "3. Book Appointment\n",
      "4. View Appointments\n",
      "5. Exit\n"
     ]
    },
    {
     "name": "stdin",
     "output_type": "stream",
     "text": [
      "Enter your choice:  1\n",
      "Enter Doctor ID:  2\n",
      "Enter Doctor Name:  muskam\n",
      "Enter Specialization:  doctor\n"
     ]
    },
    {
     "name": "stdout",
     "output_type": "stream",
     "text": [
      "\n",
      "Doctor Appointment System\n",
      "1. Add Doctor\n",
      "2. Add Patient\n",
      "3. Book Appointment\n",
      "4. View Appointments\n",
      "5. Exit\n"
     ]
    },
    {
     "name": "stdin",
     "output_type": "stream",
     "text": [
      "Enter your choice:  2\n",
      "Enter Patient ID:  3\n",
      "Enter Patient Name:  olive\n",
      "Enter Patient Age:  34\n"
     ]
    },
    {
     "name": "stdout",
     "output_type": "stream",
     "text": [
      "\n",
      "Doctor Appointment System\n",
      "1. Add Doctor\n",
      "2. Add Patient\n",
      "3. Book Appointment\n",
      "4. View Appointments\n",
      "5. Exit\n"
     ]
    },
    {
     "name": "stdin",
     "output_type": "stream",
     "text": [
      "Enter your choice:  3\n",
      "Enter Appointment ID:  4\n",
      "Enter Doctor ID:  2\n",
      "Enter Patient ID:  3\n",
      "Enter Date (YYYY-MM-DD):  2024-12-20\n",
      "Enter Time (HH:MM AM/PM):  2:00 AM\n"
     ]
    },
    {
     "name": "stdout",
     "output_type": "stream",
     "text": [
      "Appointment booked: Appointment ID: 4, Doctor: muskam, Patient: olive, Date: 2024-12-20, Time: 2:00 AM\n",
      "\n",
      "Doctor Appointment System\n",
      "1. Add Doctor\n",
      "2. Add Patient\n",
      "3. Book Appointment\n",
      "4. View Appointments\n",
      "5. Exit\n"
     ]
    },
    {
     "name": "stdin",
     "output_type": "stream",
     "text": [
      "Enter your choice:  4\n"
     ]
    },
    {
     "name": "stdout",
     "output_type": "stream",
     "text": [
      "Appointment ID: 4, Doctor: muskam, Patient: olive, Date: 2024-12-20, Time: 2:00 AM\n",
      "\n",
      "Doctor Appointment System\n",
      "1. Add Doctor\n",
      "2. Add Patient\n",
      "3. Book Appointment\n",
      "4. View Appointments\n",
      "5. Exit\n"
     ]
    },
    {
     "name": "stdin",
     "output_type": "stream",
     "text": [
      "Enter your choice:  5\n"
     ]
    }
   ],
   "source": [
    "class Doctor:\n",
    "    def __init__(self, doctor_id, name, specialization):\n",
    "        self.doctor_id = doctor_id\n",
    "        self.name = name\n",
    "        self.specialization = specialization\n",
    "\n",
    "    def __str__(self):\n",
    "        return f\"Doctor ID: {self.doctor_id}, Name: {self.name}, Specialization: {self.specialization}\"\n",
    "\n",
    "\n",
    "class Patient:\n",
    "    def __init__(self, patient_id, name, age):\n",
    "        self.patient_id = patient_id\n",
    "        self.name = name\n",
    "        self.age = age\n",
    "\n",
    "    def __str__(self):\n",
    "        return f\"Patient ID: {self.patient_id}, Name: {self.name}, Age: {self.age}\"\n",
    "\n",
    "\n",
    "class Appointment:\n",
    "    def __init__(self, appointment_id, doctor, patient, date, time):\n",
    "        self.appointment_id = appointment_id\n",
    "        self.doctor = doctor\n",
    "        self.patient = patient\n",
    "        self.date = date\n",
    "        self.time = time\n",
    "\n",
    "    def __str__(self):\n",
    "        return f\"Appointment ID: {self.appointment_id}, Doctor: {self.doctor.name}, Patient: {self.patient.name}, Date: {self.date}, Time: {self.time}\"\n",
    "\n",
    "\n",
    "class DoctorAppointmentSystem:\n",
    "    def __init__(self):\n",
    "        self.doctors = []\n",
    "        self.patients = []\n",
    "        self.appointments = []\n",
    "\n",
    "    def add_doctor(self, doctor_id, name, specialization):\n",
    "        doctor = Doctor(doctor_id, name, specialization)\n",
    "        self.doctors.append(doctor)\n",
    "\n",
    "    def add_patient(self, patient_id, name, age):\n",
    "        patient = Patient(patient_id, name, age)\n",
    "        self.patients.append(patient)\n",
    "\n",
    "    def book_appointment(self, appointment_id, doctor_id, patient_id, date, time):\n",
    "        doctor = next((d for d in self.doctors if d.doctor_id == doctor_id), None)\n",
    "        patient = next((p for p in self.patients if p.patient_id == patient_id), None)\n",
    "\n",
    "        if doctor and patient:\n",
    "            appointment = Appointment(appointment_id, doctor, patient, date, time)\n",
    "            self.appointments.append(appointment)\n",
    "            print(f\"Appointment booked: {appointment}\")\n",
    "        else:\n",
    "            print(\"Doctor or Patient not found\")\n",
    "\n",
    "    def view_appointments(self):\n",
    "        for appointment in self.appointments:\n",
    "            print(appointment)\n",
    "\n",
    "\n",
    "def main():\n",
    "    system = DoctorAppointmentSystem()\n",
    "\n",
    "    while True:\n",
    "        print(\"\\nDoctor Appointment System\")\n",
    "        print(\"1. Add Doctor\")\n",
    "        print(\"2. Add Patient\")\n",
    "        print(\"3. Book Appointment\")\n",
    "        print(\"4. View Appointments\")\n",
    "        print(\"5. Exit\")\n",
    "\n",
    "        choice = input(\"Enter your choice: \")\n",
    "\n",
    "        if choice == '1':\n",
    "            doctor_id = int(input(\"Enter Doctor ID: \"))\n",
    "            name = input(\"Enter Doctor Name: \")\n",
    "            specialization = input(\"Enter Specialization: \")\n",
    "            system.add_doctor(doctor_id, name, specialization)\n",
    "\n",
    "        elif choice == '2':\n",
    "            patient_id = int(input(\"Enter Patient ID: \"))\n",
    "            name = input(\"Enter Patient Name: \")\n",
    "            age = int(input(\"Enter Patient Age: \"))\n",
    "            system.add_patient(patient_id, name, age)\n",
    "\n",
    "        elif choice == '3':\n",
    "            appointment_id = int(input(\"Enter Appointment ID: \"))\n",
    "            doctor_id = int(input(\"Enter Doctor ID: \"))\n",
    "            patient_id = int(input(\"Enter Patient ID: \"))\n",
    "            date = input(\"Enter Date (YYYY-MM-DD): \")\n",
    "            time = input(\"Enter Time (HH:MM AM/PM): \")\n",
    "            system.book_appointment(appointment_id, doctor_id, patient_id, date, time)\n",
    "\n",
    "        elif choice == '4':\n",
    "            system.view_appointments()\n",
    "\n",
    "        elif choice == '5':\n",
    "            break\n",
    "\n",
    "        else:\n",
    "            print(\"Invalid choice. Please try again.\")\n",
    "\n",
    "\n",
    "main()"
   ]
  },
  {
   "cell_type": "code",
   "execution_count": null,
   "id": "dea78399-d2f9-40d3-88f6-1d24e5853c8d",
   "metadata": {},
   "outputs": [],
   "source": []
  }
 ],
 "metadata": {
  "kernelspec": {
   "display_name": "Python 3 (ipykernel)",
   "language": "python",
   "name": "python3"
  },
  "language_info": {
   "codemirror_mode": {
    "name": "ipython",
    "version": 3
   },
   "file_extension": ".py",
   "mimetype": "text/x-python",
   "name": "python",
   "nbconvert_exporter": "python",
   "pygments_lexer": "ipython3",
   "version": "3.12.4"
  }
 },
 "nbformat": 4,
 "nbformat_minor": 5
}
