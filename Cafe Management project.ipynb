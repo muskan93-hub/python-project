{
 "cells": [
  {
   "cell_type": "code",
   "execution_count": 1,
   "id": "c550a3ac-31e2-44c5-999d-7b5f43b52df7",
   "metadata": {},
   "outputs": [
    {
     "name": "stdout",
     "output_type": "stream",
     "text": [
      "...Welcome to Happy cafe...\n",
      "pizza: rs50\n",
      "pasta: rs40\n",
      "coffee:rs60\n",
      "salad: rs70\n",
      "cocktail: rs 50\n",
      "indian meal: rs 250 \n",
      "This is your table no. sit and enjoy your welcome drink\n",
      "Decide what you want to order\n"
     ]
    },
    {
     "name": "stdin",
     "output_type": "stream",
     "text": [
      "Enter the name of item you want to order : no\n",
      "do you want to add somthing also? Yes/No no\n",
      "anything else  you want to order? yes/no: no\n"
     ]
    },
    {
     "name": "stdout",
     "output_type": "stream",
     "text": [
      "This item is not available ryt now\n"
     ]
    },
    {
     "name": "stdin",
     "output_type": "stream",
     "text": [
      "Enter your last choice? yes/no no\n"
     ]
    },
    {
     "name": "stdout",
     "output_type": "stream",
     "text": [
      "you can't make changes now\n",
      "Your total order is here pay your bill :  0\n",
      "Better luck next time\n",
      "Thanks for visiting\n"
     ]
    }
   ],
   "source": [
    "Menu = {'pizza':50,\n",
    "       'pasta':40,\n",
    "       'coffee':60,\n",
    "       'salad':70,\n",
    "       'cocktail':50,\n",
    "       'indian meal':250,\n",
    "       }\n",
    "print(\"...Welcome to Happy cafe...\")\n",
    "print(\"pizza: rs50\\npasta: rs40\\ncoffee:rs60\\nsalad: rs70\\ncocktail: rs 50\\nindian meal: rs 250 \")\n",
    "print(\"This is your table no. sit and enjoy your welcome drink\")\n",
    "print(\"Decide what you want to order\")\n",
    "\n",
    "\n",
    "order_total = 0\n",
    "\n",
    "item_1 = input(\"Enter the name of item you want to order :\")\n",
    "if item_1 in Menu:\n",
    "    order_total += Menu[item_1]\n",
    "    print(\"your item (item_1) has been added to your order\")\n",
    "else:\n",
    "    (\"ordered item is not available yet\")\n",
    "    \n",
    "   \n",
    "\n",
    "\n",
    "item_2 = input(\"do you want to add somthing also? Yes/No\")\n",
    "if item_2 == \"Yes\":\n",
    "    item_2 = input(\"Enter the name of second order :\")\n",
    "    if item_2 in Menu:\n",
    "        order_total += Menu[item_2]\n",
    "        print(\"item {item_2} has been added to order :\")\n",
    "    else:\n",
    "        print(\"ordered item {item_2} is not available\")\n",
    "\n",
    "\n",
    "item_3 = input(\"anything else  you want to order? yes/no:\")\n",
    "if item_3 == \"yes\":\n",
    "    item_3 = input(\"Enter the name your third order :\")\n",
    "    if item_3 in Menu:\n",
    "        order_total += Menu[item_3]\n",
    "    print(\"your {item_3} has been added to order\")\n",
    "else:\n",
    "    print(\"This item is not available ryt now\")\n",
    "    \n",
    "last_choice = input(\"Enter your last choice? yes/no\")\n",
    "if last_choice == \"yes\":\n",
    "    last_choice = input(\" Enter your order this is your last chance to make changes in your order :\")\n",
    "    if last_choice in Menu:\n",
    "        order_total += Menu[last_choice]\n",
    "    print(\"your order has been added\")\n",
    "else:\n",
    "    print(\"you can't make changes now\")\n",
    "\n",
    "print(\"Your total order is here pay your bill : \",order_total)\n",
    "\n",
    "if order_total > 250 :\n",
    "    print(\"congratulations you win a gift hamper\")\n",
    "else:\n",
    "    print('Better luck next time')\n",
    "\n",
    "print(\"Thanks for visiting\")"
   ]
  },
  {
   "cell_type": "code",
   "execution_count": null,
   "id": "a5006ec0-8aa2-4d9b-81ae-c118026b2e57",
   "metadata": {},
   "outputs": [],
   "source": []
  }
 ],
 "metadata": {
  "kernelspec": {
   "display_name": "Python 3 (ipykernel)",
   "language": "python",
   "name": "python3"
  },
  "language_info": {
   "codemirror_mode": {
    "name": "ipython",
    "version": 3
   },
   "file_extension": ".py",
   "mimetype": "text/x-python",
   "name": "python",
   "nbconvert_exporter": "python",
   "pygments_lexer": "ipython3",
   "version": "3.12.4"
  }
 },
 "nbformat": 4,
 "nbformat_minor": 5
}
