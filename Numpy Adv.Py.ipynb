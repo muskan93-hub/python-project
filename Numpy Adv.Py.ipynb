{
 "cells": [
  {
   "cell_type": "markdown",
   "id": "2ea070dc-d4ea-4398-96b7-42af3f179855",
   "metadata": {},
   "source": [
    "# NUMPY"
   ]
  },
  {
   "cell_type": "code",
   "execution_count": 1,
   "id": "75bb18a5-b65d-489a-b508-6183c1188d55",
   "metadata": {
    "jp-MarkdownHeadingCollapsed": true
   },
   "outputs": [],
   "source": [
    "# WHY USE NUMPY\n",
    "\n",
    "# Numpy provides efficient storage.\n",
    "# it also provides better ways of handling data for processing.\n",
    "# it is fast.\n",
    "# it is easy to learn.\n",
    "# numpy uses relatively less memory to store data.\n"
   ]
  },
  {
   "cell_type": "markdown",
   "id": "1c02bd6e-82e9-4c07-ac95-afd5a33bc08f",
   "metadata": {},
   "source": [
    "# Array VS List"
   ]
  },
  {
   "cell_type": "code",
   "execution_count": 2,
   "id": "e676a477-7f2b-4d2d-ac1a-bbc986d7284d",
   "metadata": {},
   "outputs": [],
   "source": [
    "# An Array is a grid of values and it contains information about  the raw data,how to locate an element,and how to intrupt an element\n",
    "\n",
    "# -> All elements of an array are of same data type.\n",
    "# -> Elements of an array are sorted in contiguous memory locations.\n",
    "# -> Array are static and can not be resized once they are created.\n",
    "# -> Arrays support element wise operations.\n",
    "# -> Numpy array takes up less space in memory.\n",
    "# ...................................................................\n",
    "# -> List can have elements of diffrent data types.\n",
    "# -> List elements are not stored in contiguously in memory.\n",
    "# -> List can be resized and modified easily.\n",
    "# -> List do not support element wise operations.\n",
    "# -> More space in memory."
   ]
  },
  {
   "cell_type": "code",
   "execution_count": 3,
   "id": "c028921c-3991-4e74-b51a-91dccb9c142d",
   "metadata": {},
   "outputs": [
    {
     "name": "stdout",
     "output_type": "stream",
     "text": [
      "[10, 20, 30, 40, 50]\n",
      "[12, 22, 32, 42, 52]\n"
     ]
    }
   ],
   "source": [
    "h=[10,20,30,40,50]\n",
    "print(h)\n",
    "# print(h+2)\n",
    "temp=[]\n",
    "for i in h:\n",
    "    temp.append(i+2)\n",
    "print(temp)"
   ]
  },
  {
   "cell_type": "code",
   "execution_count": 4,
   "id": "47cd38b0-de42-4f86-bffc-0f91b231b011",
   "metadata": {},
   "outputs": [],
   "source": [
    "import numpy as np"
   ]
  },
  {
   "cell_type": "code",
   "execution_count": 5,
   "id": "2b42f8dc-2183-4c17-a28d-28ee449c35e8",
   "metadata": {},
   "outputs": [
    {
     "name": "stdout",
     "output_type": "stream",
     "text": [
      "[10, 20, 30, 40, 50] <class 'list'>\n",
      "[10 20 30 40 50] <class 'numpy.ndarray'>\n",
      "[12 22 32 42 52]\n"
     ]
    }
   ],
   "source": [
    "p=[10,20,30,40,50]\n",
    "print(p,type(p))\n",
    "q=np.array(p)\n",
    "print(q,type(q))\n",
    "print(q+2)"
   ]
  },
  {
   "cell_type": "code",
   "execution_count": 6,
   "id": "c29a4fdc-22fe-4721-be94-2acd6dbb130b",
   "metadata": {},
   "outputs": [
    {
     "name": "stdout",
     "output_type": "stream",
     "text": [
      "[11, 12, 76, 56, 34] <class 'list'>\n",
      "[11, 12, 76, 56, 34, 11, 12, 76, 56, 34]\n",
      "[11 12 76 56 34]\n",
      "[ 22  24 152 112  68]\n",
      "<class 'numpy.ndarray'>\n",
      "shape (5,)\n",
      "1\n"
     ]
    }
   ],
   "source": [
    "k=[11,12,76,56,34]\n",
    "print(k,type(k))\n",
    "print(k*2)\n",
    "j=np.array(k)\n",
    "print(j)\n",
    "print(j*2)\n",
    "print(type(j))\n",
    "print(\"shape\" ,j.shape)\n",
    "print(j.ndim)"
   ]
  },
  {
   "cell_type": "code",
   "execution_count": 7,
   "id": "f604ccdd-ee0f-4dd0-bfd5-34e3215b00ea",
   "metadata": {},
   "outputs": [
    {
     "name": "stdout",
     "output_type": "stream",
     "text": [
      "[12, 22, 33, 45, 67, 78, 67] <class 'list'>\n",
      "[12, 22, 33, 45, 67, 78, 67, 12, 22, 33, 45, 67, 78, 67, 12, 22, 33, 45, 67, 78, 67]\n",
      "[12 22 33 45 67 78 67]\n",
      "[ 36  66  99 135 201 234 201]\n",
      "<class 'numpy.ndarray'>\n",
      "shape (7,)\n",
      "1\n"
     ]
    }
   ],
   "source": [
    "a=[12,22,33,45,67,78,67]\n",
    "print(a,type(a))\n",
    "print(a*3)\n",
    "b=np.array(a)\n",
    "print(b)\n",
    "print(b*3)\n",
    "print(type(b))\n",
    "print(\"shape\",b.shape)\n",
    "print(b.ndim)"
   ]
  },
  {
   "cell_type": "code",
   "execution_count": 8,
   "id": "8f3c7701-5344-4b6d-a63a-85e8405c4371",
   "metadata": {},
   "outputs": [
    {
     "name": "stdout",
     "output_type": "stream",
     "text": [
      "[[11, 12, 13], [21, 23, 24], [23, 56, 78]]\n",
      "3\n",
      "[[11 12 13]\n",
      " [21 23 24]\n",
      " [23 56 78]]\n",
      "(3, 3)\n",
      "2\n"
     ]
    }
   ],
   "source": [
    "l1=[[11,12,13],[21,23,24],[23,56,78]]\n",
    "print(l1)\n",
    "print(len(l1)) \n",
    "matrixx=np.array(l1)\n",
    "print(matrixx)\n",
    "print(matrixx.shape)\n",
    "print(matrixx.ndim)          #--->ndim is number of dimension"
   ]
  },
  {
   "cell_type": "code",
   "execution_count": 9,
   "id": "b30fca29-d0b3-4b59-a31a-b6d3336e58f4",
   "metadata": {},
   "outputs": [
    {
     "name": "stdout",
     "output_type": "stream",
     "text": [
      "10 11 12 13 14 15 16 17 18 19 \n",
      "[10, 11, 12, 13, 14, 15]\n",
      "[50 55 60 65 70 75 80 85 90 95]\n"
     ]
    }
   ],
   "source": [
    "range(10,20)\n",
    "for i in range(10,20):                 #This is lenthy process to solve its shortcut is arange predefined function\n",
    "    print(i,end=\" \")\n",
    "print()\n",
    "print(list(range(10,16)))\n",
    "print(np.array(list(range(10,20)))*5)"
   ]
  },
  {
   "cell_type": "code",
   "execution_count": 10,
   "id": "61046eab-15fa-432d-9065-8bf6d0936f8e",
   "metadata": {},
   "outputs": [
    {
     "data": {
      "text/plain": [
       "array([20, 22, 24, 26, 28])"
      ]
     },
     "execution_count": 10,
     "metadata": {},
     "output_type": "execute_result"
    }
   ],
   "source": [
    "np.arange(20,30,2)                        "
   ]
  },
  {
   "cell_type": "code",
   "execution_count": 11,
   "id": "850c97d8-6aac-447a-848e-747f64353bac",
   "metadata": {},
   "outputs": [
    {
     "data": {
      "text/plain": [
       "array([10, 11, 12, 13, 14, 15, 16, 17, 18, 19])"
      ]
     },
     "execution_count": 11,
     "metadata": {},
     "output_type": "execute_result"
    }
   ],
   "source": [
    "np.arange(10,20)"
   ]
  },
  {
   "cell_type": "code",
   "execution_count": 12,
   "id": "49431e5d-95b2-4298-be06-369000c3003b",
   "metadata": {},
   "outputs": [
    {
     "name": "stdout",
     "output_type": "stream",
     "text": [
      "10\n",
      "12\n",
      "14\n",
      "16\n",
      "18\n"
     ]
    }
   ],
   "source": [
    "for i in np.arange(10,20,2):\n",
    "    print(i)"
   ]
  },
  {
   "cell_type": "code",
   "execution_count": 13,
   "id": "46b4e486-4c42-483c-93fd-f008907468cc",
   "metadata": {},
   "outputs": [
    {
     "name": "stdout",
     "output_type": "stream",
     "text": [
      "115\n",
      "95\n",
      "75\n",
      "55\n",
      "35\n",
      "15\n"
     ]
    }
   ],
   "source": [
    "for i in np.arange(115,9,-20):\n",
    "    print(i)"
   ]
  },
  {
   "cell_type": "code",
   "execution_count": 14,
   "id": "4b9cab29-3d95-433f-827c-c3c5b11d4e15",
   "metadata": {},
   "outputs": [
    {
     "name": "stdout",
     "output_type": "stream",
     "text": [
      "[0. 0. 0. 0. 0.]\n",
      "<class 'numpy.ndarray'>\n"
     ]
    }
   ],
   "source": [
    "a = np.zeros(5)\n",
    "print(a)\n",
    "print(type(a))"
   ]
  },
  {
   "cell_type": "code",
   "execution_count": 15,
   "id": "772bec48-8d1a-452b-98d1-51bbb41b4e3b",
   "metadata": {},
   "outputs": [
    {
     "data": {
      "text/plain": [
       "array([[0., 0., 0.],\n",
       "       [0., 0., 0.],\n",
       "       [0., 0., 0.],\n",
       "       [0., 0., 0.],\n",
       "       [0., 0., 0.]])"
      ]
     },
     "execution_count": 15,
     "metadata": {},
     "output_type": "execute_result"
    }
   ],
   "source": [
    "# np.zeros(5,3)   Error    we cant send more values in one time for this we can put many files in one file and send them\n",
    "np.zeros([5,3])  # list"
   ]
  },
  {
   "cell_type": "code",
   "execution_count": 16,
   "id": "cd89e5fe-6760-43de-91f0-d6d9862c7533",
   "metadata": {},
   "outputs": [
    {
     "data": {
      "text/plain": [
       "array([[0., 0., 0.],\n",
       "       [0., 0., 0.],\n",
       "       [0., 0., 0.],\n",
       "       [0., 0., 0.],\n",
       "       [0., 0., 0.]])"
      ]
     },
     "execution_count": 16,
     "metadata": {},
     "output_type": "execute_result"
    }
   ],
   "source": [
    "np.zeros((5,3)) #tuple"
   ]
  },
  {
   "cell_type": "code",
   "execution_count": 17,
   "id": "f88dc98a-89c5-4d5c-9c51-2cfafe6848e2",
   "metadata": {},
   "outputs": [
    {
     "data": {
      "text/plain": [
       "array([1., 1., 1., 1., 1.])"
      ]
     },
     "execution_count": 17,
     "metadata": {},
     "output_type": "execute_result"
    }
   ],
   "source": [
    "np.ones(5)"
   ]
  },
  {
   "cell_type": "code",
   "execution_count": 18,
   "id": "d8342f8c-59e4-4b0d-993c-b0e63abb11eb",
   "metadata": {},
   "outputs": [
    {
     "data": {
      "text/plain": [
       "array([[2., 2., 2., 2., 2., 2.],\n",
       "       [2., 2., 2., 2., 2., 2.],\n",
       "       [2., 2., 2., 2., 2., 2.],\n",
       "       [2., 2., 2., 2., 2., 2.],\n",
       "       [2., 2., 2., 2., 2., 2.]])"
      ]
     },
     "execution_count": 18,
     "metadata": {},
     "output_type": "execute_result"
    }
   ],
   "source": [
    "np.ones((5,6))+1"
   ]
  },
  {
   "cell_type": "code",
   "execution_count": 19,
   "id": "0d3d610a-a5f9-4584-add1-8547caeea80f",
   "metadata": {},
   "outputs": [
    {
     "data": {
      "text/plain": [
       "array([[2., 2., 2., 2., 2., 2.],\n",
       "       [2., 2., 2., 2., 2., 2.],\n",
       "       [2., 2., 2., 2., 2., 2.],\n",
       "       [2., 2., 2., 2., 2., 2.],\n",
       "       [2., 2., 2., 2., 2., 2.]])"
      ]
     },
     "execution_count": 19,
     "metadata": {},
     "output_type": "execute_result"
    }
   ],
   "source": [
    "np.ones((5,6))*2"
   ]
  },
  {
   "cell_type": "code",
   "execution_count": 1,
   "id": "056ae784-7c0c-49f1-818f-5bcf83b5c505",
   "metadata": {},
   "outputs": [],
   "source": [
    "from PIL import Image\n",
    "r= Image.open(r\"C:\\Users\\lenovo\\Downloads\\picture.webp\")    #IMAGE importer  \n",
    "r\n",
    "a=np.array(r)\n",
    "a\n",
    "img.show()"
   ]
  },
  {
   "cell_type": "code",
   "execution_count": 22,
   "id": "7d4fb0bc-2057-4a13-9d4c-27ceea1b7c6d",
   "metadata": {},
   "outputs": [
    {
     "data": {
      "text/plain": [
       "array([ 0. ,  2.5,  5. ,  7.5, 10. ])"
      ]
     },
     "execution_count": 22,
     "metadata": {},
     "output_type": "execute_result"
    }
   ],
   "source": [
    "np.linspace(0,10,5)      #start ,end, partition divde the range in equal parts"
   ]
  },
  {
   "cell_type": "code",
   "execution_count": 23,
   "id": "320256b5-9b45-4771-bec0-532185dc0a2d",
   "metadata": {},
   "outputs": [
    {
     "data": {
      "text/plain": [
       "array([11. , 28.6, 46.2, 63.8, 81.4, 99. ])"
      ]
     },
     "execution_count": 23,
     "metadata": {},
     "output_type": "execute_result"
    }
   ],
   "source": [
    "np.linspace(11,99,6)"
   ]
  },
  {
   "cell_type": "code",
   "execution_count": 24,
   "id": "6881ca89-b88f-458e-a5b5-7e4a06e661d6",
   "metadata": {},
   "outputs": [
    {
     "data": {
      "text/plain": [
       "array([[1., 0., 0., 0., 0.],\n",
       "       [0., 1., 0., 0., 0.],\n",
       "       [0., 0., 1., 0., 0.],\n",
       "       [0., 0., 0., 1., 0.],\n",
       "       [0., 0., 0., 0., 1.]])"
      ]
     },
     "execution_count": 24,
     "metadata": {},
     "output_type": "execute_result"
    }
   ],
   "source": [
    "np.eye(5)         # identity matrix  diagonals are 1 rest are 0"
   ]
  },
  {
   "cell_type": "code",
   "execution_count": 25,
   "id": "9c0713dd-0f7d-43dc-9a55-6073c5657390",
   "metadata": {},
   "outputs": [
    {
     "data": {
      "text/plain": [
       "array([[1., 0., 0., 0., 0., 0., 0., 0.],\n",
       "       [0., 1., 0., 0., 0., 0., 0., 0.],\n",
       "       [0., 0., 1., 0., 0., 0., 0., 0.],\n",
       "       [0., 0., 0., 1., 0., 0., 0., 0.],\n",
       "       [0., 0., 0., 0., 1., 0., 0., 0.],\n",
       "       [0., 0., 0., 0., 0., 1., 0., 0.],\n",
       "       [0., 0., 0., 0., 0., 0., 1., 0.],\n",
       "       [0., 0., 0., 0., 0., 0., 0., 1.]])"
      ]
     },
     "execution_count": 25,
     "metadata": {},
     "output_type": "execute_result"
    }
   ],
   "source": [
    "np.eye(8)       #identity matrix"
   ]
  },
  {
   "cell_type": "code",
   "execution_count": 26,
   "id": "36b8310d-9cf4-4b72-8d8c-bc282ac09e47",
   "metadata": {},
   "outputs": [
    {
     "data": {
      "text/plain": [
       "array([16, 16, 43])"
      ]
     },
     "execution_count": 26,
     "metadata": {},
     "output_type": "execute_result"
    }
   ],
   "source": [
    "np.random.randint(10,50,3)     #generate random data"
   ]
  },
  {
   "cell_type": "code",
   "execution_count": 27,
   "id": "21ee5e21-2970-4a67-9c68-c99a2e1c346b",
   "metadata": {},
   "outputs": [
    {
     "data": {
      "text/plain": [
       "array([ 0,  1,  2,  3,  4,  5,  6,  7,  8,  9, 10, 11])"
      ]
     },
     "execution_count": 27,
     "metadata": {},
     "output_type": "execute_result"
    }
   ],
   "source": [
    "arr1=np.arange(12)\n",
    "arr1"
   ]
  },
  {
   "cell_type": "code",
   "execution_count": 28,
   "id": "9651641c-8475-4759-87b3-aeeee0525a03",
   "metadata": {},
   "outputs": [
    {
     "data": {
      "text/plain": [
       "(12,)"
      ]
     },
     "execution_count": 28,
     "metadata": {},
     "output_type": "execute_result"
    }
   ],
   "source": [
    "arr1.shape"
   ]
  },
  {
   "cell_type": "code",
   "execution_count": 29,
   "id": "704109cf-e279-40a7-8c6f-0b329a4fda38",
   "metadata": {},
   "outputs": [
    {
     "data": {
      "text/plain": [
       "array([[ 0,  1,  2],\n",
       "       [ 3,  4,  5],\n",
       "       [ 6,  7,  8],\n",
       "       [ 9, 10, 11]])"
      ]
     },
     "execution_count": 29,
     "metadata": {},
     "output_type": "execute_result"
    }
   ],
   "source": [
    "arr2=arr1.reshape(4,3)#4 is rows and 3 is columns\n",
    "arr2"
   ]
  },
  {
   "cell_type": "code",
   "execution_count": 30,
   "id": "db78094a-8fd7-4ed2-bc82-fc22041106c5",
   "metadata": {},
   "outputs": [
    {
     "data": {
      "text/plain": [
       "(4, 3)"
      ]
     },
     "execution_count": 30,
     "metadata": {},
     "output_type": "execute_result"
    }
   ],
   "source": [
    "arr2.shape"
   ]
  },
  {
   "cell_type": "code",
   "execution_count": 31,
   "id": "ac1b7e8d-2c37-424b-ad74-75947fc0cec5",
   "metadata": {},
   "outputs": [
    {
     "data": {
      "text/plain": [
       "0"
      ]
     },
     "execution_count": 31,
     "metadata": {},
     "output_type": "execute_result"
    }
   ],
   "source": [
    "arr2.min()"
   ]
  },
  {
   "cell_type": "code",
   "execution_count": 32,
   "id": "3c622d2c-7370-4abe-88bb-fba431fffc3d",
   "metadata": {},
   "outputs": [
    {
     "data": {
      "text/plain": [
       "11"
      ]
     },
     "execution_count": 32,
     "metadata": {},
     "output_type": "execute_result"
    }
   ],
   "source": [
    "arr2.max()"
   ]
  },
  {
   "cell_type": "code",
   "execution_count": 33,
   "id": "88155f12-ae5c-4c91-89c3-0919ca9172b1",
   "metadata": {},
   "outputs": [
    {
     "data": {
      "text/plain": [
       "66"
      ]
     },
     "execution_count": 33,
     "metadata": {},
     "output_type": "execute_result"
    }
   ],
   "source": [
    "arr2.sum()"
   ]
  },
  {
   "cell_type": "markdown",
   "id": "d5dad623-cfc9-4be4-bee7-c9f85dffa996",
   "metadata": {},
   "source": [
    "# OPERATIONS"
   ]
  },
  {
   "cell_type": "code",
   "execution_count": 34,
   "id": "96d3285a-c82f-4881-98b6-f047d7810390",
   "metadata": {},
   "outputs": [
    {
     "name": "stdout",
     "output_type": "stream",
     "text": [
      "[15 16 17 18 19 20]\n",
      "[25 26 27 28 29 30]\n",
      "[5 6 7]\n"
     ]
    }
   ],
   "source": [
    "a=np.arange(15,21)\n",
    "b=np.arange(25,31)\n",
    "c=10\n",
    "d=np.arange(5,8)\n",
    "print(a)\n",
    "print(b)\n",
    "print(d)"
   ]
  },
  {
   "cell_type": "code",
   "execution_count": 35,
   "id": "5cc1b949-7002-4778-8de3-0c2f136d9109",
   "metadata": {},
   "outputs": [
    {
     "name": "stdout",
     "output_type": "stream",
     "text": [
      "[20 21 22 23 24 25]\n",
      "[21 22 23 24 25 26]\n",
      "[22 23 24 25 26 27]\n"
     ]
    }
   ],
   "source": [
    " for i in d:\n",
    "     print(i+a)"
   ]
  },
  {
   "cell_type": "code",
   "execution_count": 36,
   "id": "6773d067-b8da-42ca-b607-f62603736327",
   "metadata": {},
   "outputs": [
    {
     "data": {
      "text/plain": [
       "array([25, 26, 27, 28, 29, 30])"
      ]
     },
     "execution_count": 36,
     "metadata": {},
     "output_type": "execute_result"
    }
   ],
   "source": [
    "a+c"
   ]
  },
  {
   "cell_type": "code",
   "execution_count": 37,
   "id": "aaa1e611-7d1a-4cb7-81af-d91c787fffef",
   "metadata": {},
   "outputs": [],
   "source": [
    "# a+d error becoz a contain 6 values nd d contain 3 values"
   ]
  },
  {
   "cell_type": "code",
   "execution_count": 38,
   "id": "10bf2c73-3960-4fa2-bd43-7ee77f5123c5",
   "metadata": {},
   "outputs": [
    {
     "name": "stdout",
     "output_type": "stream",
     "text": [
      "[15 16 17 18 19 20]\n",
      "[25 26 27 28 29 30]\n"
     ]
    }
   ],
   "source": [
    "a=np.arange(15,21)\n",
    "b=np.arange(25,31)\n",
    "print(a)\n",
    "print(b)"
   ]
  },
  {
   "cell_type": "code",
   "execution_count": 39,
   "id": "5544888d-6c8e-4919-8e0a-eb7d08830d56",
   "metadata": {},
   "outputs": [
    {
     "data": {
      "text/plain": [
       "array([40, 42, 44, 46, 48, 50])"
      ]
     },
     "execution_count": 39,
     "metadata": {},
     "output_type": "execute_result"
    }
   ],
   "source": [
    "a+b"
   ]
  },
  {
   "cell_type": "code",
   "execution_count": 40,
   "id": "7a1f494e-31c3-44d6-8c94-1c4e293dd2fd",
   "metadata": {},
   "outputs": [
    {
     "name": "stdout",
     "output_type": "stream",
     "text": [
      "[20 21 22 23 24 25]\n",
      "[21 22 23 24 25 26]\n",
      "[22 23 24 25 26 27]\n"
     ]
    }
   ],
   "source": [
    "for i in d:\n",
    "    print(i+a)"
   ]
  },
  {
   "cell_type": "code",
   "execution_count": 41,
   "id": "17716024-9fc6-4c0c-80b2-25f2b135180a",
   "metadata": {},
   "outputs": [
    {
     "data": {
      "text/plain": [
       "array([15, 16, 17, 18, 19, 20])"
      ]
     },
     "execution_count": 41,
     "metadata": {},
     "output_type": "execute_result"
    }
   ],
   "source": [
    "a"
   ]
  },
  {
   "cell_type": "code",
   "execution_count": 42,
   "id": "0bac012a-6d2c-4201-82e7-dee1ccc74557",
   "metadata": {},
   "outputs": [
    {
     "data": {
      "text/plain": [
       "array([225, 256, 289, 324, 361, 400])"
      ]
     },
     "execution_count": 42,
     "metadata": {},
     "output_type": "execute_result"
    }
   ],
   "source": [
    "a*a"
   ]
  },
  {
   "cell_type": "code",
   "execution_count": 43,
   "id": "3978b3db-48a6-48ef-a867-2b91690e1ddd",
   "metadata": {},
   "outputs": [
    {
     "data": {
      "text/plain": [
       "array([1., 1., 1., 1., 1., 1.])"
      ]
     },
     "execution_count": 43,
     "metadata": {},
     "output_type": "execute_result"
    }
   ],
   "source": [
    "a/a"
   ]
  },
  {
   "cell_type": "code",
   "execution_count": 44,
   "id": "4a10e555-1d61-4037-9542-205956adac31",
   "metadata": {
    "scrolled": true
   },
   "outputs": [],
   "source": [
    "b=np.arange(6)"
   ]
  },
  {
   "cell_type": "code",
   "execution_count": 45,
   "id": "22e73d5d-6562-4e2a-9136-af2fe3b4cfec",
   "metadata": {},
   "outputs": [
    {
     "data": {
      "text/plain": [
       "array([ 0,  1,  4,  9, 16, 25])"
      ]
     },
     "execution_count": 45,
     "metadata": {},
     "output_type": "execute_result"
    }
   ],
   "source": [
    "b**2"
   ]
  },
  {
   "cell_type": "code",
   "execution_count": 46,
   "id": "f18ef21c-f07c-4efd-8fec-7ed30c2164a9",
   "metadata": {},
   "outputs": [
    {
     "data": {
      "text/plain": [
       "array([  0,   1,   8,  27,  64, 125], dtype=int32)"
      ]
     },
     "execution_count": 46,
     "metadata": {},
     "output_type": "execute_result"
    }
   ],
   "source": [
    "b**3"
   ]
  },
  {
   "cell_type": "code",
   "execution_count": 47,
   "id": "b341b660-6f30-4911-931d-1a2990167074",
   "metadata": {},
   "outputs": [
    {
     "data": {
      "text/plain": [
       "array([0.        , 1.        , 1.41421356, 1.73205081, 2.        ,\n",
       "       2.23606798])"
      ]
     },
     "execution_count": 47,
     "metadata": {},
     "output_type": "execute_result"
    }
   ],
   "source": [
    "b**0.5 #(square root)"
   ]
  },
  {
   "cell_type": "code",
   "execution_count": 48,
   "id": "539b9ad7-81d5-49e1-a36c-92de50f430da",
   "metadata": {},
   "outputs": [
    {
     "data": {
      "text/plain": [
       "array([0.        , 1.        , 1.25992105, 1.44224957, 1.58740105,\n",
       "       1.70997595])"
      ]
     },
     "execution_count": 48,
     "metadata": {},
     "output_type": "execute_result"
    }
   ],
   "source": [
    "b**(1/3)"
   ]
  },
  {
   "cell_type": "code",
   "execution_count": 49,
   "id": "fd7eaf9b-7dcc-415e-aba9-6c5a39c5382f",
   "metadata": {},
   "outputs": [
    {
     "data": {
      "text/plain": [
       "array([0.        , 1.        , 1.41421356, 1.73205081, 2.        ,\n",
       "       2.23606798])"
      ]
     },
     "execution_count": 49,
     "metadata": {},
     "output_type": "execute_result"
    }
   ],
   "source": [
    "np.sqrt(b) #(square root)"
   ]
  },
  {
   "cell_type": "code",
   "execution_count": 50,
   "id": "c15b76c7-72dd-4510-8f4e-55c2d7e5d714",
   "metadata": {},
   "outputs": [
    {
     "data": {
      "text/plain": [
       "array([  1.        ,   2.71828183,   7.3890561 ,  20.08553692,\n",
       "        54.59815003, 148.4131591 ])"
      ]
     },
     "execution_count": 50,
     "metadata": {},
     "output_type": "execute_result"
    }
   ],
   "source": [
    "np.exp(b)"
   ]
  },
  {
   "cell_type": "code",
   "execution_count": 125,
   "id": "92daeffc-c29d-4b75-bc53-f44edfe3ab07",
   "metadata": {},
   "outputs": [
    {
     "data": {
      "text/plain": [
       "array([[2.99573227, 3.04452244, 3.09104245],\n",
       "       [3.13549422, 3.17805383, 3.21887582],\n",
       "       [3.25809654, 3.29583687, 3.33220451],\n",
       "       [3.36729583, 3.40119738, 3.4339872 ]])"
      ]
     },
     "execution_count": 125,
     "metadata": {},
     "output_type": "execute_result"
    }
   ],
   "source": [
    "np.log(b)"
   ]
  },
  {
   "cell_type": "code",
   "execution_count": 126,
   "id": "c2bc2745-0837-44d0-bfe2-9ba147bad52e",
   "metadata": {},
   "outputs": [
    {
     "data": {
      "text/plain": [
       "array([[2.30258509, 2.39789527, 2.48490665],\n",
       "       [2.56494936, 2.63905733, 2.7080502 ],\n",
       "       [2.77258872, 2.83321334, 2.89037176],\n",
       "       [2.94443898, 2.99573227, 3.04452244]])"
      ]
     },
     "execution_count": 126,
     "metadata": {},
     "output_type": "execute_result"
    }
   ],
   "source": [
    "np.log(a)"
   ]
  },
  {
   "cell_type": "code",
   "execution_count": 52,
   "id": "60fb19fc-d1c2-4385-beea-321eaa84bd19",
   "metadata": {},
   "outputs": [
    {
     "data": {
      "text/plain": [
       "array([ 0.        ,  0.84147098,  0.90929743,  0.14112001, -0.7568025 ,\n",
       "       -0.95892427])"
      ]
     },
     "execution_count": 52,
     "metadata": {},
     "output_type": "execute_result"
    }
   ],
   "source": [
    "np.sin(b)"
   ]
  },
  {
   "cell_type": "code",
   "execution_count": 53,
   "id": "2cc723e4-1989-4225-9566-076e6bae2894",
   "metadata": {},
   "outputs": [
    {
     "data": {
      "text/plain": [
       "array([[25, 53, 71],\n",
       "       [30, 86, 65],\n",
       "       [37, 30, 52],\n",
       "       [33, 71, 16]])"
      ]
     },
     "execution_count": 53,
     "metadata": {},
     "output_type": "execute_result"
    }
   ],
   "source": [
    "a=np.random.randint(10,100,12).reshape(4,3)\n",
    "a"
   ]
  },
  {
   "cell_type": "code",
   "execution_count": 54,
   "id": "a6535a55-3501-4fd3-9d9e-a9f212368b2d",
   "metadata": {},
   "outputs": [
    {
     "data": {
      "text/plain": [
       "array([[40, 34, 37, 14, 28],\n",
       "       [72, 62, 28, 61, 45],\n",
       "       [16, 44, 42, 36, 89]])"
      ]
     },
     "execution_count": 54,
     "metadata": {},
     "output_type": "execute_result"
    }
   ],
   "source": [
    "b=np.random.randint(10,100,15).reshape(3,5)\n",
    "b"
   ]
  },
  {
   "cell_type": "code",
   "execution_count": 55,
   "id": "80171058-bd6c-4473-84c2-b25217e1d421",
   "metadata": {},
   "outputs": [
    {
     "data": {
      "text/plain": [
       "array([[ 5952,  7260,  5391,  6139,  9404],\n",
       "       [ 8432,  9212,  6248,  8006, 10495],\n",
       "       [ 4472,  5406,  4393,  4220,  7014],\n",
       "       [ 6688,  6228,  3881,  5369,  5543]])"
      ]
     },
     "execution_count": 55,
     "metadata": {},
     "output_type": "execute_result"
    }
   ],
   "source": [
    "a.dot(b) #Returns a dot product of two arrays."
   ]
  },
  {
   "cell_type": "code",
   "execution_count": 56,
   "id": "902ae8fe-10c2-4788-8609-407c620f11ce",
   "metadata": {},
   "outputs": [
    {
     "data": {
      "text/plain": [
       "array([[1, 2, 3],\n",
       "       [4, 5, 6]])"
      ]
     },
     "execution_count": 56,
     "metadata": {},
     "output_type": "execute_result"
    }
   ],
   "source": [
    "a=np.array( [[1,2,3],[4,5,6]] )\n",
    "a"
   ]
  },
  {
   "cell_type": "code",
   "execution_count": 57,
   "id": "12e08e73-1685-491e-ad78-f11ae2fa73e5",
   "metadata": {},
   "outputs": [
    {
     "data": {
      "text/plain": [
       "array([[10, 11],\n",
       "       [20, 21],\n",
       "       [30, 31]])"
      ]
     },
     "execution_count": 57,
     "metadata": {},
     "output_type": "execute_result"
    }
   ],
   "source": [
    "b=np.array( [[10,11],[20,21],[30,31]])\n",
    "b"
   ]
  },
  {
   "cell_type": "code",
   "execution_count": 58,
   "id": "80cc5038-2c4b-45dd-85b7-5ce89d3ea959",
   "metadata": {},
   "outputs": [
    {
     "data": {
      "text/plain": [
       "array([[140, 146],\n",
       "       [320, 335]])"
      ]
     },
     "execution_count": 58,
     "metadata": {},
     "output_type": "execute_result"
    }
   ],
   "source": [
    "a.dot(b) #(dot use for multiplication of matrix)"
   ]
  },
  {
   "cell_type": "code",
   "execution_count": null,
   "id": "6fd1fde5-1237-41bd-a9bd-f2f66a4e29a6",
   "metadata": {},
   "outputs": [],
   "source": [
    "a = np.array([[]])"
   ]
  },
  {
   "cell_type": "code",
   "execution_count": 59,
   "id": "3a71324a-9219-48f5-a07f-ff0a5a159648",
   "metadata": {},
   "outputs": [
    {
     "data": {
      "text/plain": [
       "array([[10, 11, 12],\n",
       "       [20, 21, 22]])"
      ]
     },
     "execution_count": 59,
     "metadata": {},
     "output_type": "execute_result"
    }
   ],
   "source": [
    "c=np.array( [[10,11,12],[20,21,22]])\n",
    "c"
   ]
  },
  {
   "cell_type": "code",
   "execution_count": 60,
   "id": "4fd0d12a-9f63-4f77-be22-2d3b88761ff0",
   "metadata": {},
   "outputs": [
    {
     "data": {
      "text/plain": [
       "385"
      ]
     },
     "execution_count": 60,
     "metadata": {},
     "output_type": "execute_result"
    }
   ],
   "source": [
    "np.vdot(a,c) #(vdot use for sum of matrix after multiplication)"
   ]
  },
  {
   "cell_type": "code",
   "execution_count": 61,
   "id": "19e655cc-5d49-4062-937e-d826ddf85cf2",
   "metadata": {},
   "outputs": [
    {
     "data": {
      "text/plain": [
       "array([[1, 2, 3],\n",
       "       [4, 5, 6]])"
      ]
     },
     "execution_count": 61,
     "metadata": {},
     "output_type": "execute_result"
    }
   ],
   "source": [
    "b=np.array( [[1, 2, 3],[4,5,6]] )\n",
    "b                 "
   ]
  },
  {
   "cell_type": "code",
   "execution_count": 62,
   "id": "bca2c2ca-628f-4912-9bc2-7179fceb6e6c",
   "metadata": {},
   "outputs": [
    {
     "data": {
      "text/plain": [
       "array([[3, 4, 5],\n",
       "       [7, 9, 8]])"
      ]
     },
     "execution_count": 62,
     "metadata": {},
     "output_type": "execute_result"
    }
   ],
   "source": [
    "c=np.array( [[3,4,5],[7,9,8]])\n",
    "c"
   ]
  },
  {
   "cell_type": "code",
   "execution_count": 63,
   "id": "7bd81057-4072-4511-8058-d41920d6bc5b",
   "metadata": {},
   "outputs": [
    {
     "data": {
      "text/plain": [
       "147"
      ]
     },
     "execution_count": 63,
     "metadata": {},
     "output_type": "execute_result"
    }
   ],
   "source": [
    "np.vdot(b,c)"
   ]
  },
  {
   "cell_type": "code",
   "execution_count": 64,
   "id": "2efc7000-4659-45d9-ba74-f0d90bdb801f",
   "metadata": {},
   "outputs": [
    {
     "data": {
      "text/plain": [
       "array([[12,  2,  3,  4],\n",
       "       [ 6,  8,  9,  5]])"
      ]
     },
     "execution_count": 64,
     "metadata": {},
     "output_type": "execute_result"
    }
   ],
   "source": [
    "a=np.array([[12,2,3,4],[6,8,9,5]])\n",
    "a"
   ]
  },
  {
   "cell_type": "code",
   "execution_count": 65,
   "id": "ca1b3d77-657d-41ca-ba69-6db03fe99a3f",
   "metadata": {},
   "outputs": [
    {
     "data": {
      "text/plain": [
       "array([[23, 12,  3,  4],\n",
       "       [ 4,  5,  6,  7]])"
      ]
     },
     "execution_count": 65,
     "metadata": {},
     "output_type": "execute_result"
    }
   ],
   "source": [
    "b=np.array([[23,12,3,4],[4,5,6,7]])\n",
    "b"
   ]
  },
  {
   "cell_type": "code",
   "execution_count": 66,
   "id": "aff1f47e-f6ce-46a5-b354-0ecf2ac18c27",
   "metadata": {},
   "outputs": [
    {
     "data": {
      "text/plain": [
       "array([[ 2,  3,  4,  5],\n",
       "       [23,  6,  8,  9]])"
      ]
     },
     "execution_count": 66,
     "metadata": {},
     "output_type": "execute_result"
    }
   ],
   "source": [
    "c=np.array([[2,3,4,5],[23,6,8,9]])\n",
    "c"
   ]
  },
  {
   "cell_type": "code",
   "execution_count": 67,
   "id": "400b164d-d788-49af-967a-e8b33ccf700a",
   "metadata": {},
   "outputs": [
    {
     "data": {
      "text/plain": [
       "365"
      ]
     },
     "execution_count": 67,
     "metadata": {},
     "output_type": "execute_result"
    }
   ],
   "source": [
    "np.vdot(a,c)"
   ]
  },
  {
   "cell_type": "code",
   "execution_count": 68,
   "id": "5146ca76-bd05-48c6-8518-ccc0545624a0",
   "metadata": {},
   "outputs": [
    {
     "name": "stdout",
     "output_type": "stream",
     "text": [
      "[[1 2 3]\n",
      " [4 5 6]] \n",
      "\n",
      "(2, 3)\n",
      "2\n",
      "int32\n"
     ]
    }
   ],
   "source": [
    "a=np.array([[1,2,3],[4,5,6]])\n",
    "print(a,\"\\n\")\n",
    "print(a.shape)\n",
    "print(a.ndim)\n",
    "print(a.dtype)"
   ]
  },
  {
   "cell_type": "code",
   "execution_count": 69,
   "id": "6bfbd200-6c1d-407e-a340-4a1feb99ac7b",
   "metadata": {},
   "outputs": [
    {
     "name": "stdout",
     "output_type": "stream",
     "text": [
      "before :\n",
      " [ 0  1  2  3  4  5  6  7  8  9 10 11]\n",
      "\n",
      "after :\n",
      " [[ 0  1  2]\n",
      " [ 3  4  5]\n",
      " [ 6  7  8]\n",
      " [ 9 10 11]]\n"
     ]
    }
   ],
   "source": [
    "a=np.arange(12)\n",
    "print(\"before :\\n\",a)\n",
    "a.shape=(4,3)\n",
    "print(\"\\nafter :\\n\",a)"
   ]
  },
  {
   "cell_type": "code",
   "execution_count": 70,
   "id": "29bd6c38-b06a-42b0-a27b-b57797163da6",
   "metadata": {},
   "outputs": [
    {
     "name": "stdout",
     "output_type": "stream",
     "text": [
      "before :\n",
      " [ 0  1  2  3  4  5  6  7  8  9 10 11]\n",
      "[[ 0  1  2]\n",
      " [ 3  4  5]\n",
      " [ 6  7  8]\n",
      " [ 9 10 11]]\n",
      "\n",
      " [ 0  1  2  3  4  5  6  7  8  9 10 11]\n"
     ]
    }
   ],
   "source": [
    "a=np.arange(12)\n",
    "print(\"before :\\n\",a)\n",
    "b=a.reshape(4,3)   #(if we don't want to change the original data then we use reshape function)\n",
    "print(b)\n",
    "print(\"\\n\",a)"
   ]
  },
  {
   "cell_type": "code",
   "execution_count": 71,
   "id": "e3a59fbc-102e-4491-a335-96ecc10a9743",
   "metadata": {},
   "outputs": [
    {
     "name": "stdout",
     "output_type": "stream",
     "text": [
      "a ndim is : 1\n",
      "before :\n",
      " [ 0  1  2  3  4  5  6  7  8  9 10 11 12 13 14 15 16 17 18 19 20 21 22 23]\n",
      "nb ndim is : 3\n",
      "[[[ 0  1  2  3]\n",
      "  [ 4  5  6  7]]\n",
      "\n",
      " [[ 8  9 10 11]\n",
      "  [12 13 14 15]]\n",
      "\n",
      " [[16 17 18 19]\n",
      "  [20 21 22 23]]]\n"
     ]
    }
   ],
   "source": [
    "a=np.arange(24)\n",
    "print(\"a ndim is :\",a.ndim)\n",
    "print(\"before :\\n\",a)\n",
    "b=a.reshape(3,2,4)\n",
    "print(\"nb ndim is :\",b.ndim)\n",
    "print(b)"
   ]
  },
  {
   "cell_type": "code",
   "execution_count": 72,
   "id": "d576d98a-170d-49bc-b08f-b779213da87d",
   "metadata": {},
   "outputs": [
    {
     "name": "stdout",
     "output_type": "stream",
     "text": [
      "[1 2 3 4 5]\n",
      "[1 2 3 4 5]\n"
     ]
    }
   ],
   "source": [
    "l=[1,2,3,4,5]\n",
    "print(np.array(l))\n",
    "print(np.asarray(l))"
   ]
  },
  {
   "cell_type": "code",
   "execution_count": 73,
   "id": "dd0fefd3-a6a3-4393-a28a-c66908db5885",
   "metadata": {},
   "outputs": [
    {
     "name": "stdout",
     "output_type": "stream",
     "text": [
      "4\n",
      "int32\n"
     ]
    }
   ],
   "source": [
    "a=np.array([12,34,56,78])\n",
    "print(a.itemsize)\n",
    "print(a.dtype)"
   ]
  },
  {
   "cell_type": "code",
   "execution_count": 74,
   "id": "23a9782c-fbcd-467d-8bf7-8f347f167633",
   "metadata": {},
   "outputs": [
    {
     "name": "stdout",
     "output_type": "stream",
     "text": [
      "[12 34 56 78]\n",
      "8\n",
      "int64\n"
     ]
    }
   ],
   "source": [
    "a=np.array([12,34,56,78],dtype=np.int64)\n",
    "print(a)\n",
    "print(a.itemsize)\n",
    "print(a.dtype)"
   ]
  },
  {
   "cell_type": "code",
   "execution_count": 75,
   "id": "7200967e-543c-47f9-92c9-7bcac9f7b85d",
   "metadata": {},
   "outputs": [
    {
     "name": "stdout",
     "output_type": "stream",
     "text": [
      "[12. 34. 56. 78.]\n",
      "8\n",
      "float64\n"
     ]
    }
   ],
   "source": [
    "a=np.array([12,34,56,78],dtype=float)\n",
    "print(a)\n",
    "print(a.itemsize)\n",
    "print(a.dtype)"
   ]
  },
  {
   "cell_type": "markdown",
   "id": "298fbcfb-bd37-4dbb-b0e9-15222b44621d",
   "metadata": {},
   "source": [
    "# LIST SLICING"
   ]
  },
  {
   "cell_type": "code",
   "execution_count": 76,
   "id": "7247d253-159b-4a0a-b2f2-f5deda31988a",
   "metadata": {},
   "outputs": [],
   "source": [
    "import numpy as np"
   ]
  },
  {
   "cell_type": "code",
   "execution_count": 77,
   "id": "e56769e8-f60f-4299-94db-58a8c72e6e76",
   "metadata": {},
   "outputs": [
    {
     "data": {
      "text/plain": [
       "array([10, 11, 12, 13, 14, 15, 16, 17, 18, 19])"
      ]
     },
     "execution_count": 77,
     "metadata": {},
     "output_type": "execute_result"
    }
   ],
   "source": [
    "a=np.arange(10,20)\n",
    "a"
   ]
  },
  {
   "cell_type": "code",
   "execution_count": 78,
   "id": "a0f5edd7-749f-416d-90bb-c1bbf0cc08ee",
   "metadata": {},
   "outputs": [
    {
     "name": "stdout",
     "output_type": "stream",
     "text": [
      "[10 11 12]\n",
      "[12 13 14 15 16]\n",
      "[17 18 19]\n",
      "[17 18 19]\n",
      "[17 18 19]\n",
      "[10 12 14 16 18]\n",
      "[12 15 18]\n",
      "[10 11 12]\n"
     ]
    }
   ],
   "source": [
    "print(a[:3])\n",
    "print(a[2:7])\n",
    "print(a[7:])\n",
    "print(a[7:10])\n",
    "print(a[-3:])\n",
    "print(a[0::2])\n",
    "print(a[2::3])\n",
    "print(a[0:3])"
   ]
  },
  {
   "cell_type": "code",
   "execution_count": 79,
   "id": "98c55595-115b-4727-9e92-81b53c32ffee",
   "metadata": {},
   "outputs": [
    {
     "name": "stdout",
     "output_type": "stream",
     "text": [
      "[10 11 12 13 14 15 16 17 18 19]\n",
      "[50 51 52 53 54 55 56 57 58 59]\n",
      "[70 71 72 73 74 75 76 77 78 79]\n",
      "[12 13 14 15 16]\n",
      "[52 53 54 55 56]\n",
      "[72 73 74 75 76]\n"
     ]
    }
   ],
   "source": [
    "a=np.arange(10,20)\n",
    "b=np.arange(50,60)\n",
    "c=np.arange(70,80)\n",
    "print(a)\n",
    "print(b)\n",
    "print(c)\n",
    "d=slice(2,7,1)\n",
    "print(a[d])\n",
    "print(b[d])\n",
    "print(c[d])"
   ]
  },
  {
   "cell_type": "code",
   "execution_count": 80,
   "id": "6a775940-793c-4c64-a2ee-5f935c2cc196",
   "metadata": {},
   "outputs": [
    {
     "name": "stdout",
     "output_type": "stream",
     "text": [
      "[[10 11 12 13]\n",
      " [14 15 16 17]\n",
      " [18 19 20 21]\n",
      " [22 23 24 25]\n",
      " [26 27 28 29]\n",
      " [30 31 32 33]]\n"
     ]
    }
   ],
   "source": [
    "ar=np.arange(10,34).reshape(6,4)\n",
    "print(ar)"
   ]
  },
  {
   "cell_type": "code",
   "execution_count": 81,
   "id": "f1c38be7-22eb-43fb-ae9f-dcb47ee8293f",
   "metadata": {},
   "outputs": [
    {
     "name": "stdout",
     "output_type": "stream",
     "text": [
      "[[10 11 12 13]\n",
      " [14 15 16 17]\n",
      " [18 19 20 21]\n",
      " [22 23 24 25]\n",
      " [26 27 28 29]\n",
      " [30 31 32 33]]\n",
      "\n",
      "\n",
      "[[10 11 12 13]\n",
      " [14 15 16 17]\n",
      " [18 19 20 21]\n",
      " [22 23 24 25]\n",
      " [26 27 28 29]\n",
      " [30 31 32 33]]\n",
      "\n",
      "\n",
      "[[10 11 12 13]\n",
      " [14 15 16 17]\n",
      " [18 19 20 21]\n",
      " [22 23 24 25]\n",
      " [26 27 28 29]\n",
      " [30 31 32 33]]\n"
     ]
    }
   ],
   "source": [
    "print(ar[ : , : ])\n",
    "print(\"\\n\")\n",
    "print(ar[ : : , : : ])\n",
    "print(\"\\n\")\n",
    "print(ar[...])"
   ]
  },
  {
   "cell_type": "code",
   "execution_count": 82,
   "id": "9b5404a0-166b-445e-a65b-ff9a0765ee40",
   "metadata": {},
   "outputs": [
    {
     "name": "stdout",
     "output_type": "stream",
     "text": [
      "[[10 11 12 13]\n",
      " [14 15 16 17]\n",
      " [18 19 20 21]]\n",
      "[[10 11 12]\n",
      " [14 15 16]\n",
      " [18 19 20]\n",
      " [22 23 24]\n",
      " [26 27 28]\n",
      " [30 31 32]]\n",
      "[[10 11 12]\n",
      " [14 15 16]\n",
      " [18 19 20]]\n",
      "[[11 13]\n",
      " [19 21]\n",
      " [27 29]]\n"
     ]
    }
   ],
   "source": [
    "print(ar[:3,:])\n",
    "print(ar[:,:3])\n",
    "print(ar[:3,:3])\n",
    "print(ar[0::2,1::2])"
   ]
  },
  {
   "cell_type": "code",
   "execution_count": 83,
   "id": "4713e107-4ddc-49d0-afbc-66790ae57da4",
   "metadata": {},
   "outputs": [
    {
     "name": "stdout",
     "output_type": "stream",
     "text": [
      "[[10 11 12 13]\n",
      " [14 15 16 17]\n",
      " [18 19 20 21]\n",
      " [22 23 24 25]\n",
      " [26 27 28 29]\n",
      " [30 31 32 33]]\n",
      "[[[10 11 12 13]\n",
      "  [14 15 16 17]\n",
      "  [18 19 20 21]]\n",
      "\n",
      " [[22 23 24 25]\n",
      "  [26 27 28 29]\n",
      "  [30 31 32 33]]]\n"
     ]
    }
   ],
   "source": [
    " print(ar)\n",
    "print(ar.reshape(2,3,4))"
   ]
  },
  {
   "cell_type": "code",
   "execution_count": 84,
   "id": "4e6deeba-5c18-4a82-b40e-c9575b590b09",
   "metadata": {},
   "outputs": [
    {
     "name": "stdout",
     "output_type": "stream",
     "text": [
      "[[10 11 12 13 14 15 16 17 18 19 20 21 22 23 24 25 26 27 28 29 30 31 32 33]]\n"
     ]
    }
   ],
   "source": [
    "print(ar.reshape(1,24)) #single 1 dimension"
   ]
  },
  {
   "cell_type": "code",
   "execution_count": 85,
   "id": "a6473a43-df02-47da-89a2-d5730c302e73",
   "metadata": {},
   "outputs": [
    {
     "name": "stdout",
     "output_type": "stream",
     "text": [
      "[[10]\n",
      " [11]\n",
      " [12]\n",
      " [13]\n",
      " [14]\n",
      " [15]\n",
      " [16]\n",
      " [17]\n",
      " [18]\n",
      " [19]\n",
      " [20]\n",
      " [21]\n",
      " [22]\n",
      " [23]\n",
      " [24]\n",
      " [25]\n",
      " [26]\n",
      " [27]\n",
      " [28]\n",
      " [29]\n",
      " [30]\n",
      " [31]\n",
      " [32]\n",
      " [33]]\n"
     ]
    }
   ],
   "source": [
    "print(ar.reshape(24,1))"
   ]
  },
  {
   "cell_type": "code",
   "execution_count": 86,
   "id": "3cbc23f8-daf5-421c-ac67-16102e179116",
   "metadata": {},
   "outputs": [
    {
     "name": "stdout",
     "output_type": "stream",
     "text": [
      "[10 11 12 13 14 15 16 17 18 19 20 21 22 23 24 25 26 27 28 29 30 31 32 33]\n"
     ]
    }
   ],
   "source": [
    "print(ar.flatten())  #convert into 1 d"
   ]
  },
  {
   "cell_type": "code",
   "execution_count": 87,
   "id": "46d297e5-f73a-43fc-9642-e4e728c9a9d4",
   "metadata": {},
   "outputs": [
    {
     "name": "stdout",
     "output_type": "stream",
     "text": [
      "22\n"
     ]
    }
   ],
   "source": [
    "print(ar.flat[12]) #fetch the positional value"
   ]
  },
  {
   "cell_type": "code",
   "execution_count": 88,
   "id": "e9378968-f167-47a7-881b-4d0caad6d38f",
   "metadata": {},
   "outputs": [
    {
     "name": "stdout",
     "output_type": "stream",
     "text": [
      "17\n"
     ]
    }
   ],
   "source": [
    "print(ar.flat[7])"
   ]
  },
  {
   "cell_type": "code",
   "execution_count": 89,
   "id": "0571378d-a617-44e3-a710-f7018fdd5713",
   "metadata": {},
   "outputs": [
    {
     "name": "stdout",
     "output_type": "stream",
     "text": [
      "[[10 11 12 13]\n",
      " [14 15 16 17]\n",
      " [18 19 20 21]\n",
      " [22 23 24 25]\n",
      " [26 27 28 29]\n",
      " [30 31 32 33]]\n"
     ]
    }
   ],
   "source": [
    "print(ar)"
   ]
  },
  {
   "cell_type": "code",
   "execution_count": 124,
   "id": "c087118a-a295-4186-b975-03dc2bb1653f",
   "metadata": {},
   "outputs": [
    {
     "name": "stdout",
     "output_type": "stream",
     "text": [
      "[[1 4 7]\n",
      " [2 5 1]\n",
      " [3 6 0]]\n"
     ]
    }
   ],
   "source": [
    "print(ar.T) #transpose converts into row into column"
   ]
  },
  {
   "cell_type": "code",
   "execution_count": 120,
   "id": "664a5a6f-7f34-4261-86df-5527a4a361a7",
   "metadata": {},
   "outputs": [],
   "source": [
    "a=np.arange(10,22).reshape(4,3)\n",
    "b=np.arange(20,32).reshape(4,3)"
   ]
  },
  {
   "cell_type": "code",
   "execution_count": 92,
   "id": "eeb4df9b-276f-4941-af80-eb3469efde59",
   "metadata": {},
   "outputs": [
    {
     "name": "stdout",
     "output_type": "stream",
     "text": [
      "[[10 11 12]\n",
      " [13 14 15]\n",
      " [16 17 18]\n",
      " [19 20 21]]\n"
     ]
    }
   ],
   "source": [
    "print(a)"
   ]
  },
  {
   "cell_type": "code",
   "execution_count": 93,
   "id": "d14b0f3f-52ca-471f-8d7b-02f22f1aa280",
   "metadata": {},
   "outputs": [
    {
     "name": "stdout",
     "output_type": "stream",
     "text": [
      "[[20 21 22]\n",
      " [23 24 25]\n",
      " [26 27 28]\n",
      " [29 30 31]]\n"
     ]
    }
   ],
   "source": [
    "print(b)"
   ]
  },
  {
   "cell_type": "code",
   "execution_count": 121,
   "id": "871ac9e7-c1f4-486c-8e6e-545ee369fe41",
   "metadata": {},
   "outputs": [
    {
     "data": {
      "text/plain": [
       "array([[10, 11, 12],\n",
       "       [13, 14, 15],\n",
       "       [16, 17, 18],\n",
       "       [19, 20, 21],\n",
       "       [20, 21, 22],\n",
       "       [23, 24, 25],\n",
       "       [26, 27, 28],\n",
       "       [29, 30, 31]])"
      ]
     },
     "execution_count": 121,
     "metadata": {},
     "output_type": "execute_result"
    }
   ],
   "source": [
    "np.vstack((a,b)) "
   ]
  },
  {
   "cell_type": "code",
   "execution_count": 95,
   "id": "fc80fa44-b585-4aed-9bc0-254fce5d83dd",
   "metadata": {},
   "outputs": [
    {
     "data": {
      "text/plain": [
       "array([[10, 11, 12, 20, 21, 22],\n",
       "       [13, 14, 15, 23, 24, 25],\n",
       "       [16, 17, 18, 26, 27, 28],\n",
       "       [19, 20, 21, 29, 30, 31]])"
      ]
     },
     "execution_count": 95,
     "metadata": {},
     "output_type": "execute_result"
    }
   ],
   "source": [
    "np.hstack((a,b)) #converts rows into coloumn,converts into horizontally"
   ]
  },
  {
   "cell_type": "code",
   "execution_count": 122,
   "id": "672e2fc6-36af-42bd-8c46-6d500b8bedf9",
   "metadata": {},
   "outputs": [],
   "source": [
    "x = [[1,2,3],[4,5,6],[7,1,0]]"
   ]
  },
  {
   "cell_type": "code",
   "execution_count": 107,
   "id": "0f9ce051-a974-4e59-92f4-f7609f09fe7a",
   "metadata": {},
   "outputs": [
    {
     "data": {
      "text/plain": [
       "array([[1, 2, 3],\n",
       "       [4, 5, 6],\n",
       "       [7, 1, 0]])"
      ]
     },
     "execution_count": 107,
     "metadata": {},
     "output_type": "execute_result"
    }
   ],
   "source": [
    "ar = np.array(x)\n",
    "ar"
   ]
  },
  {
   "cell_type": "code",
   "execution_count": 98,
   "id": "64e7ef10-4dbd-4df1-a418-b1ae03340fa6",
   "metadata": {},
   "outputs": [
    {
     "data": {
      "text/plain": [
       "array([12,  8,  9])"
      ]
     },
     "execution_count": 98,
     "metadata": {},
     "output_type": "execute_result"
    }
   ],
   "source": [
    "ar.sum(axis=0)        #axis 0 sums the values columnwise"
   ]
  },
  {
   "cell_type": "code",
   "execution_count": 99,
   "id": "9ece6c04-eca9-47b5-bda6-3b29cce5e4db",
   "metadata": {},
   "outputs": [
    {
     "data": {
      "text/plain": [
       "array([ 6, 15,  8])"
      ]
     },
     "execution_count": 99,
     "metadata": {},
     "output_type": "execute_result"
    }
   ],
   "source": [
    "ar.sum(axis=1)       #axis 1 sums the values row wise"
   ]
  },
  {
   "cell_type": "code",
   "execution_count": 100,
   "id": "8bb73a3b-f829-40ef-9841-493fa9b598d7",
   "metadata": {},
   "outputs": [
    {
     "data": {
      "text/plain": [
       "36"
      ]
     },
     "execution_count": 100,
     "metadata": {},
     "output_type": "execute_result"
    }
   ],
   "source": [
    "ar.nbytes"
   ]
  },
  {
   "cell_type": "code",
   "execution_count": 123,
   "id": "1a6d53ad-a2ea-4670-ad67-93912deb3fd2",
   "metadata": {},
   "outputs": [],
   "source": [
    "one = np.array([65,34,635,23,9])"
   ]
  },
  {
   "cell_type": "code",
   "execution_count": 102,
   "id": "e8097c7a-1f6a-484e-85d7-96523afd8c06",
   "metadata": {},
   "outputs": [
    {
     "data": {
      "text/plain": [
       "2"
      ]
     },
     "execution_count": 102,
     "metadata": {},
     "output_type": "execute_result"
    }
   ],
   "source": [
    "one.argmax()"
   ]
  },
  {
   "cell_type": "code",
   "execution_count": 103,
   "id": "795864f9-bf54-473b-9606-1156bc7fd671",
   "metadata": {},
   "outputs": [
    {
     "data": {
      "text/plain": [
       "array([4, 3, 1, 0, 2], dtype=int64)"
      ]
     },
     "execution_count": 103,
     "metadata": {},
     "output_type": "execute_result"
    }
   ],
   "source": [
    "one.argsort()   #sort the values in increasing order"
   ]
  },
  {
   "cell_type": "code",
   "execution_count": 104,
   "id": "760b1c44-a408-405e-a4dd-87703e036df7",
   "metadata": {},
   "outputs": [
    {
     "data": {
      "text/plain": [
       "array([[1, 2, 3],\n",
       "       [4, 5, 6],\n",
       "       [7, 1, 0]])"
      ]
     },
     "execution_count": 104,
     "metadata": {},
     "output_type": "execute_result"
    }
   ],
   "source": [
    "ar"
   ]
  },
  {
   "cell_type": "code",
   "execution_count": 108,
   "id": "ddb486ff-036d-43f5-b5af-708a8a5de320",
   "metadata": {},
   "outputs": [],
   "source": [
    "ar2 = np.array([[1,2,3],[5,6,7],[8,7,9]])"
   ]
  },
  {
   "cell_type": "code",
   "execution_count": 109,
   "id": "b8f29243-1f9e-48d1-90f8-57f6a48b17cb",
   "metadata": {},
   "outputs": [
    {
     "data": {
      "text/plain": [
       "array([[1, 2, 3],\n",
       "       [5, 6, 7],\n",
       "       [8, 7, 9]])"
      ]
     },
     "execution_count": 109,
     "metadata": {},
     "output_type": "execute_result"
    }
   ],
   "source": [
    "ar2"
   ]
  },
  {
   "cell_type": "code",
   "execution_count": 110,
   "id": "cf9922e2-2e8a-4eeb-a9b3-84e755f5d3ba",
   "metadata": {},
   "outputs": [
    {
     "data": {
      "text/plain": [
       "array([[ 2,  4,  6],\n",
       "       [ 9, 11, 13],\n",
       "       [15,  8,  9]])"
      ]
     },
     "execution_count": 110,
     "metadata": {},
     "output_type": "execute_result"
    }
   ],
   "source": [
    "ar+ar2"
   ]
  },
  {
   "cell_type": "code",
   "execution_count": 111,
   "id": "79252443-da0d-45bb-8e9f-3ad2c800dcd2",
   "metadata": {},
   "outputs": [
    {
     "data": {
      "text/plain": [
       "array([2, 1, 1], dtype=int64)"
      ]
     },
     "execution_count": 111,
     "metadata": {},
     "output_type": "execute_result"
    }
   ],
   "source": [
    "ar.argmax(axis=0)"
   ]
  },
  {
   "cell_type": "code",
   "execution_count": 112,
   "id": "1ed041b9-5eea-429d-a466-765cd710a12b",
   "metadata": {},
   "outputs": [
    {
     "data": {
      "text/plain": [
       "array([2, 2, 0], dtype=int64)"
      ]
     },
     "execution_count": 112,
     "metadata": {},
     "output_type": "execute_result"
    }
   ],
   "source": [
    "ar.argmax(axis=1)"
   ]
  },
  {
   "cell_type": "code",
   "execution_count": null,
   "id": "21dff0f6-da5c-41fe-8c4f-cbbf85807e19",
   "metadata": {},
   "outputs": [],
   "source": []
  }
 ],
 "metadata": {
  "kernelspec": {
   "display_name": "Python 3 (ipykernel)",
   "language": "python",
   "name": "python3"
  },
  "language_info": {
   "codemirror_mode": {
    "name": "ipython",
    "version": 3
   },
   "file_extension": ".py",
   "mimetype": "text/x-python",
   "name": "python",
   "nbconvert_exporter": "python",
   "pygments_lexer": "ipython3",
   "version": "3.12.4"
  }
 },
 "nbformat": 4,
 "nbformat_minor": 5
}
