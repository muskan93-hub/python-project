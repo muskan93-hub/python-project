{
 "cells": [
  {
   "cell_type": "code",
   "execution_count": 1,
   "id": "fc9b52df-8b3f-4ec6-8d16-8014c91fb817",
   "metadata": {},
   "outputs": [],
   "source": [
    "import tkinter"
   ]
  },
  {
   "cell_type": "code",
   "execution_count": 2,
   "id": "e6a86e97-04d6-4028-bfab-f0fc4c146250",
   "metadata": {},
   "outputs": [],
   "source": [
    "from tkinter import ttk\n",
    "from tkinter import messagebox\n"
   ]
  },
  {
   "cell_type": "code",
   "execution_count": 3,
   "id": "7d2805eb-3467-4887-8132-d2a799d1c067",
   "metadata": {},
   "outputs": [],
   "source": [
    "Combobox = ttk.Combobox\n"
   ]
  },
  {
   "cell_type": "code",
   "execution_count": 4,
   "id": "7abf2b14-b9c8-4850-afde-387bfa532c7c",
   "metadata": {},
   "outputs": [],
   "source": [
    "def enter_data():\n",
    "    accepted=accept_var.get()\n",
    "\n",
    "    if accepted==\"Accepted\":\n",
    "        #user info\n",
    "        firstname = first_name_entry.get()\n",
    "        lastname = last_name_entry.get() \n",
    "\n",
    "        if firstname and lastname:\n",
    "            title = title_combobox.get()\n",
    "            age = age_spinbox.get() \n",
    "            nationality = nationality_combobox.get()\n",
    "        \n",
    "            #courses info\n",
    "            registration_status = reg_status_var.get()\n",
    "            numcourses = numcourses_spinbox.get()\n",
    "            numsemesters = numsemesters_spinbox.get()\n",
    "            print(\"first name:\",firstname, \"Last name:\", lastname)\n",
    "            print(\"Title:\", title, \"Age:\",age, \"Nationality:\",nationality)\n",
    "            print(\"# Courses:\",numcourses,\"# Semesters:\",numsemesters)\n",
    "            print(\"Registration status:\",registration_status)\n",
    "            print(\"--------------------------------------------\")\n",
    "        else:\n",
    "            tkinter.messagebox.showwarning(title=\"Error\",message=\"First name and last name are required.\")\n",
    "    else:\n",
    "        tkinter.messagebox.showwarning(title=\"Error\", message=\"You have not accepted the terms\")\n",
    "            \n"
   ]
  },
  {
   "cell_type": "code",
   "execution_count": 5,
   "id": "32648985-fc96-4003-a021-bfa4a158fabc",
   "metadata": {},
   "outputs": [
    {
     "data": {
      "text/plain": [
       "''"
      ]
     },
     "execution_count": 5,
     "metadata": {},
     "output_type": "execute_result"
    }
   ],
   "source": [
    "window = tkinter.Tk()\n",
    "window.title(\"Data Entry Form\")"
   ]
  },
  {
   "cell_type": "code",
   "execution_count": 6,
   "id": "01d648cc-b7e8-4489-a649-3e81760853b7",
   "metadata": {},
   "outputs": [],
   "source": [
    "frame = tkinter.Frame(window)"
   ]
  },
  {
   "cell_type": "code",
   "execution_count": 7,
   "id": "1b7e0c17-928f-406f-acb7-09244a9d9527",
   "metadata": {},
   "outputs": [],
   "source": [
    "frame.pack()"
   ]
  },
  {
   "cell_type": "code",
   "execution_count": 8,
   "id": "09154745-17b2-4e4f-8ebe-6cb89a4b7fb4",
   "metadata": {},
   "outputs": [],
   "source": [
    "user_info_frame = tkinter.LabelFrame(frame, text=\"User Information\")\n",
    "user_info_frame.grid(row=0, column=0,padx=20,pady=20)"
   ]
  },
  {
   "cell_type": "code",
   "execution_count": 9,
   "id": "5bb59569-b1e5-42e8-966e-6048e30313a2",
   "metadata": {},
   "outputs": [],
   "source": [
    "first_name_label = tkinter.Label(user_info_frame,text=\"First Name\")\n",
    "first_name_label.grid (row=0,column=0)"
   ]
  },
  {
   "cell_type": "code",
   "execution_count": 10,
   "id": "00432b72-e146-44a1-9a18-39676608ba2f",
   "metadata": {},
   "outputs": [],
   "source": [
    "last_name_label = tkinter.Label(user_info_frame,text=\"Last Name\")\n",
    "last_name_label.grid(row=0,column=1)"
   ]
  },
  {
   "cell_type": "code",
   "execution_count": 11,
   "id": "9ae3ba6d-03ab-4fc0-9698-a48a11a9f23f",
   "metadata": {},
   "outputs": [],
   "source": [
    "first_name_entry = tkinter.Entry(user_info_frame)\n",
    "last_name_entry = tkinter.Entry(user_info_frame)\n",
    "first_name_entry.grid(row=1,column=0)\n",
    "last_name_entry.grid(row=1,column=1)\n"
   ]
  },
  {
   "cell_type": "code",
   "execution_count": 12,
   "id": "6030bc0d-3291-4233-ad64-d3d932dd547e",
   "metadata": {},
   "outputs": [],
   "source": [
    "title_label = tkinter.Label(user_info_frame,text=\"Title\")\n",
    "title_combobox =  ttk.Combobox(user_info_frame, values=[\"\",\"Mr.\",\"Ms.\",\"Dr.\"])\n",
    "title_label.grid(row=0,column=2)\n",
    "title_combobox.grid(row=1,column=2)\n"
   ]
  },
  {
   "cell_type": "code",
   "execution_count": 13,
   "id": "380ca42f-cfc5-45cc-9862-3406f474c209",
   "metadata": {},
   "outputs": [],
   "source": [
    "age_label = tkinter.Label(user_info_frame, text=\"Age\")\n",
    "age_spinbox = tkinter.Spinbox(user_info_frame,from_=18,to=110)\n",
    "age_label.grid(row=2, column=0)\n",
    "age_spinbox.grid(row=3,column=0)"
   ]
  },
  {
   "cell_type": "code",
   "execution_count": 14,
   "id": "61cf0f57-0a03-4e21-b58f-b75f51c5afb1",
   "metadata": {},
   "outputs": [],
   "source": [
    "nationality_label = tkinter.Label(user_info_frame,text=\"Nationality\")\n",
    "nationality_combobox = ttk.Combobox(user_info_frame,values=[\"Africa\",\"Antarctica\",\"Asia\",\"Europe\",\"North America\",\"Oceania\",\"South America\"])\n",
    "nationality_label.grid(row=2,column=1)\n",
    "nationality_combobox.grid(row=3,column=1)"
   ]
  },
  {
   "cell_type": "code",
   "execution_count": 15,
   "id": "8ce4408f-1572-45d1-bb6b-9972915b8ccc",
   "metadata": {},
   "outputs": [],
   "source": [
    "for widget in user_info_frame.winfo_children():\n",
    "    widget.grid_configure(padx=10,pady=5)"
   ]
  },
  {
   "cell_type": "code",
   "execution_count": 16,
   "id": "dd3c5468-e4f1-45cf-9f8f-ae184dd6cc1f",
   "metadata": {},
   "outputs": [],
   "source": [
    "#Saving course info\n",
    "\n",
    "courses_frame = tkinter.LabelFrame(frame)\n",
    "courses_frame.grid(row=1, column=0,sticky=\"news\",padx=20, pady=20)\n"
   ]
  },
  {
   "cell_type": "code",
   "execution_count": 17,
   "id": "a7b2a329-b2d5-409f-8bf3-5b33c0693448",
   "metadata": {},
   "outputs": [],
   "source": [
    "registered_label = tkinter.Label(courses_frame,text=\"Registration Status\")\n",
    "\n",
    "reg_status_var = tkinter.StringVar(value=\"Not Registered\")\n",
    "\n",
    "registered_check = tkinter.Checkbutton(courses_frame, text=\"Currently Registered\",variable=reg_status_var, onvalue=\"Registered\" , \n",
    "                                       offvalue=\"Not registred\")\n",
    "\n",
    "#registered_check = tkinter.Checkbutton(courses_frame,text=\"Currently Registered\")\n",
    "\n",
    "registered_label.grid(row=0, column=0)\n",
    "registered_check.grid(row=1, column=0)"
   ]
  },
  {
   "cell_type": "code",
   "execution_count": 18,
   "id": "7841a8fd-1436-4232-905d-06613328885f",
   "metadata": {},
   "outputs": [],
   "source": [
    "numcourses_label = tkinter.Label(courses_frame,text = \"#Completed Courses\")\n",
    "numcourses_spinbox = tkinter.Spinbox(courses_frame,from_=0,to=\"infinity\")\n",
    "numcourses_label.grid(row=0,column=1)\n",
    "numcourses_spinbox.grid(row=1,column=1)\n"
   ]
  },
  {
   "cell_type": "code",
   "execution_count": 19,
   "id": "e20deaa8-472f-4301-8840-4384dd74d09d",
   "metadata": {},
   "outputs": [],
   "source": [
    "numsemesters_label = tkinter.Label(courses_frame,text = \"#Semesters\")\n",
    "numsemesters_spinbox = tkinter.Spinbox(courses_frame,from_=0,to=\"infinity\")\n",
    "numsemesters_label.grid(row=0,column=2)\n",
    "numsemesters_spinbox.grid(row=1,column=2)\n",
    "for widget in courses_frame.winfo_children():\n",
    "    widget.grid_configure(padx=10,pady=5)\n"
   ]
  },
  {
   "cell_type": "code",
   "execution_count": 20,
   "id": "881322fa-d6c4-47a8-91fa-e9d72f71b2f3",
   "metadata": {},
   "outputs": [],
   "source": [
    "#Accept terms\n",
    "\n",
    "terms_frame = tkinter.LabelFrame(frame,text=\"Terms & Condition\")\n",
    "terms_frame.grid(row=2, column=0, sticky=\"news\",padx=20, pady=20)\n",
    "\n",
    "accept_var = tkinter.StringVar(value=\"Not Accepted\")\n",
    "\n",
    "\n",
    "\n",
    "terms_check = tkinter.Checkbutton(terms_frame,text=\"I accept the terms and condition.\",variable=accept_var,onvalue=\"Accepted\",offvalue=\"Not Accepted\")\n",
    "terms_check.grid(row=0, column=0)"
   ]
  },
  {
   "cell_type": "code",
   "execution_count": 21,
   "id": "97c46024-06db-4306-87ba-bbb11d233f8c",
   "metadata": {},
   "outputs": [],
   "source": [
    "#Button\n",
    "\n",
    "button = tkinter.Button(frame, text=\"Enter Data\",command =enter_data)\n",
    "button.grid(row=3,column=0,sticky=\"news\",padx=20,pady=10)"
   ]
  },
  {
   "cell_type": "code",
   "execution_count": 22,
   "id": "17d4f206-a895-49ab-a12b-83dca215ccf8",
   "metadata": {},
   "outputs": [],
   "source": [
    "window.mainloop()"
   ]
  },
  {
   "cell_type": "code",
   "execution_count": null,
   "id": "9e141a64-0729-4c8e-bf72-991a5ce07c23",
   "metadata": {},
   "outputs": [],
   "source": []
  }
 ],
 "metadata": {
  "kernelspec": {
   "display_name": "Python 3 (ipykernel)",
   "language": "python",
   "name": "python3"
  },
  "language_info": {
   "codemirror_mode": {
    "name": "ipython",
    "version": 3
   },
   "file_extension": ".py",
   "mimetype": "text/x-python",
   "name": "python",
   "nbconvert_exporter": "python",
   "pygments_lexer": "ipython3",
   "version": "3.12.4"
  }
 },
 "nbformat": 4,
 "nbformat_minor": 5
}
